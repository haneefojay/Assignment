{
 "cells": [
  {
   "cell_type": "markdown",
   "metadata": {},
   "source": [
    "# My Jupyter Notebook on IBM Watson Studio"
   ]
  },
  {
   "cell_type": "markdown",
   "metadata": {},
   "source": [
    "**HANEEF OJUTALAYO** \n",
    "\n",
    "Data Scientist"
   ]
  },
  {
   "cell_type": "markdown",
   "metadata": {},
   "source": [
    "*I'm interested in Data Science because it will equip me with the ability and competency as a prospective engineer, \n",
    "I would be able to make Data-Driven designs, construct predictive models and help organisations, businesses governments, etc.\n",
    "to make Data-Driven decisions.\n",
    "All these are part of the skills needed to be successful in the 21st century.*"
   ]
  },
  {
   "cell_type": "markdown",
   "metadata": {},
   "source": [
    "### This code will find the area of a triangle (LB) , where (L) is the length of the triangle and (B) is the breadth"
   ]
  },
  {
   "cell_type": "code",
   "execution_count": 5,
   "metadata": {},
   "outputs": [
    {
     "name": "stdout",
     "output_type": "stream",
     "text": [
      "50\n"
     ]
    }
   ],
   "source": [
    "L = 5\n",
    "B = 10\n",
    "A = L * B\n",
    "print(A)"
   ]
  },
  {
   "cell_type": "markdown",
   "metadata": {},
   "source": [
    "### Hyperlink\n",
    " Watson Studio is accessible at [IBM Watson Studio](https://developer.ibm.com/learningpaths/get-started-watson-studio/). \n",
    " \n",
    " ### Bulleted List\n",
    " In Watson Studio overview you can learn:\n",
    " * Introduction to IBM Watson studio\n",
    " * Intial data exploration\n",
    " * Automate model building\n",
    " * Create SPSS modeler flow.\n",
    " \n",
    "### Numbered List\n", 
    "As a beginer you will achieve the following learning objectives:\n",
    " 1.  What is Watson Studio\n",
    " 2.  Data Science Methodology\n",
    " 3.  Common Architecture\n",
    " 4.  Data understanding Visualization, and transformation.\n",
    " \n",
    "### Image\n",
    " ![IBM Data Science Methodology](https://developer.ibm.com/developer/default/articles/introduction-watson-studio/images/02.01-CRISP-DM-1.png)"
   ]
  },
  {
   "cell_type": "code",
   "execution_count": null,
   "metadata": {},
   "outputs": [],
   "source": []
  }
 ],
 "metadata": {
  "kernelspec": {
   "display_name": "Python 3.9",
   "language": "python",
   "name": "python3"
  },
  "language_info": {
   "codemirror_mode": {
    "name": "ipython",
    "version": 3
   },
   "file_extension": ".py",
   "mimetype": "text/x-python",
   "name": "python",
   "nbconvert_exporter": "python",
   "pygments_lexer": "ipython3",
   "version": "3.9.12"
  }
 },
 "nbformat": 4,
 "nbformat_minor": 1
}
