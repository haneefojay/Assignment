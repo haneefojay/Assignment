{
  "metadata": {
    "language_info": {
      "codemirror_mode": {
        "name": "python",
        "version": 3
      },
      "file_extension": ".py",
      "mimetype": "text/x-python",
      "name": "python",
      "nbconvert_exporter": "python",
      "pygments_lexer": "ipython3",
      "version": "3.8"
    },
    "kernelspec": {
      "name": "python",
      "display_name": "Python (Pyodide)",
      "language": "python"
    }
  },
  "nbformat_minor": 4,
  "nbformat": 4,
  "cells": [
    {
      "cell_type": "markdown",
      "source": "# My Jupyter Notebook on IBM Watson Studio",
      "metadata": {}
    },
    {
      "cell_type": "markdown",
      "source": "**HANEEF OJUTALAYO**\n\nData Scientist",
      "metadata": {}
    },
    {
      "cell_type": "markdown",
      "source": "*I'm interested in Data Science because it will equip me with the ability and competency as a prospective engineer, \nI would be able to make Data-Driven designs, construct predictive models and help organisations, businesses governments, etc.\nto make Data-Driven decisions.\nAll these are part of the skills needed to be successful in the 21st century.*",
      "metadata": {}
    },
    {
      "cell_type": "markdown",
      "source": "### This code will find the area of a triangle (LB) , where (L) is the length of the triangle and (B) is the breadth",
      "metadata": {}
    },
    {
      "cell_type": "code",
      "source": "L = 5\nB = 10\nA = L * B\nprint(A)\n",
      "metadata": {
        "trusted": true
      },
      "execution_count": 3,
      "outputs": [
        {
          "name": "stdout",
          "text": "50\n",
          "output_type": "stream"
        }
      ]
    },
    {
      "cell_type": "markdown",
      "source": " ### Hyperlink\n Watson Studio is accessible at [IBM Watson Studio](https://developer.ibm.com/learningpaths/get-started-watson-studio/). \n ### Bulleted List\n In Watson Studio overview you can learn:\n * Introduction to IBM Watson studio\n * Intial data exploration\n * Automate model building\n * Create SPSS modeler flow\n ### Numbered List\n As a beginer you will achiever the following learning objrctives:\n 1.  What is Watson Studio\n 2.  Data Science Methodology\n 3.  Common Architecture\n 4.  Data understanding Visualization, and transformation\n ### Image\n ![IBM Data Science Methodology](https://developer.ibm.com/developer/default/articles/introduction-watson-studio/images/02.01-CRISP-DM-1.png)",
      "metadata": {}
    }
  ]
}